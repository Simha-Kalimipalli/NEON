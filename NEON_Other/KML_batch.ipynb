{
 "cells": [
  {
   "cell_type": "code",
   "execution_count": 1,
   "id": "cdf0bb60-80a7-40e6-a858-f52fa9ae99b9",
   "metadata": {},
   "outputs": [],
   "source": [
    "from pykml import parser\n",
    "import re\n",
    "import os"
   ]
  },
  {
   "cell_type": "code",
   "execution_count": 5,
   "id": "d21e2278-54c0-4d8a-a94d-abc40b5ebef2",
   "metadata": {},
   "outputs": [],
   "source": [
    "file_dir='K:\\\\neon\\\\ABBY\\\\NEON.D16.ABBY.DP1.30006.001.2019-07.basic.20221114T164907Z.RELEASE-2022\\\\'\n",
    "out_dir='K:\\\\neon\\\\ABBY\\\\NEON.D16.ABBY.DP1.30006.001.2019-07.basic.20221114T164907Z.RELEASE-2022\\\\kml_updated\\\\'"
   ]
  },
  {
   "cell_type": "code",
   "execution_count": 7,
   "id": "9fe84ea8-dc83-4e25-b5a4-c5fd291b2509",
   "metadata": {},
   "outputs": [],
   "source": [
    "for file in os.listdir(file_dir):\n",
    "    if file.endswith('.kml'):\n",
    "        with open(file_dir+file) as f:\n",
    "            doc = parser.parse(f)\n",
    "            root = doc.getroot()\n",
    "            i=0\n",
    "            folder = root.Document.Folder # parent of Placemark\n",
    "            for pm in folder.getchildren():\n",
    "               # print (pm.tag)\n",
    "               # print (pm.getparent().tag)\n",
    "                if pm.tag == '{http://www.opengis.net/kml/2.2}Placemark':\n",
    "                    if i==1:\n",
    "                        # print (pm.getchildren())        \n",
    "                        folder.remove(pm)\n",
    "                    i=i+1     \n",
    "            doc.write(out_dir+file)     "
   ]
  }
 ],
 "metadata": {
  "kernelspec": {
   "display_name": "Python 3 (ipykernel)",
   "language": "python",
   "name": "python3"
  },
  "language_info": {
   "codemirror_mode": {
    "name": "ipython",
    "version": 3
   },
   "file_extension": ".py",
   "mimetype": "text/x-python",
   "name": "python",
   "nbconvert_exporter": "python",
   "pygments_lexer": "ipython3",
   "version": "3.7.13"
  }
 },
 "nbformat": 4,
 "nbformat_minor": 5
}
