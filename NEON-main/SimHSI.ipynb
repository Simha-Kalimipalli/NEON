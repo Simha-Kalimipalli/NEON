{
 "cells": [
  {
   "cell_type": "code",
   "execution_count": 2,
   "id": "94fe1344-2809-4b3b-8a2b-976a6b1a6797",
   "metadata": {},
   "outputs": [],
   "source": [
    "from scipy import interpolate\n",
    "import numpy as np\n",
    "import h5py\n",
    "import pandas as pd\n",
    "from osgeo import gdal, osr\n",
    "import matplotlib.pyplot as plt\n",
    "%matplotlib inline\n",
    "import warnings\n",
    "warnings.filterwarnings('ignore')"
   ]
  },
  {
   "cell_type": "markdown",
   "id": "b4410d94-e400-4085-a44a-c5d209750b52",
   "metadata": {},
   "source": [
    "## read S2 SRF"
   ]
  },
  {
   "cell_type": "code",
   "execution_count": 3,
   "id": "74165019-ac5e-4ae8-ab26-00e1fe228bac",
   "metadata": {},
   "outputs": [],
   "source": [
    "df = pd.read_csv('S2-SRF_COPE-GSEG-EOPG.csv')"
   ]
  },
  {
   "cell_type": "code",
   "execution_count": 4,
   "id": "64fdac1f-5167-4cd9-9937-66760d7a1430",
   "metadata": {},
   "outputs": [],
   "source": [
    "S2_B= {}\n",
    "for i in  range (1,len(df.columns)):   \n",
    "    S2_B[i-1]= list(zip(df.loc[:,df.columns[0]],df.loc[:,df.columns[i]]))\n",
    "    S2_B[i-1] = {key:val for key, val in list(S2_B[i-1]) if val != 0.0} ## remove all 0 in the value"
   ]
  },
  {
   "cell_type": "markdown",
   "id": "579a1e81-5017-41a7-904f-24d6a8113cb0",
   "metadata": {},
   "source": [
    "## loading NEON"
   ]
  },
  {
   "cell_type": "code",
   "execution_count": 5,
   "id": "dae644a1-1ad8-46bb-a8bc-fef7deb44a41",
   "metadata": {},
   "outputs": [],
   "source": [
    "f=h5py.File('K:/NEON_refl-surf-dir-ortho-line (3)/NEON_refl-surf-dir-ortho-line/NEON.D16.ABBY.DP1.30006.001.2019-07.basic.20221110T005401Z.RELEASE-2022/NEON_D16_ABBY_DP1_20190714_220751_reflectance.h5','r')"
   ]
  },
  {
   "cell_type": "code",
   "execution_count": 6,
   "id": "525cb466-f64a-480b-bf26-7f6dc8d04ea2",
   "metadata": {},
   "outputs": [],
   "source": [
    "site='ABBY'\n",
    "S2_Bands=13"
   ]
  },
  {
   "cell_type": "code",
   "execution_count": 7,
   "id": "285a4f15-0c2e-441b-85af-93cfc63ab373",
   "metadata": {},
   "outputs": [],
   "source": [
    "Ref = f[site]['Reflectance']\n",
    "RefArray = Ref['Reflectance_Data']\n",
    "Ref_shape = RefArray.shape\n",
    "MapInfo = Ref['Metadata']['Coordinate_System']['Map_Info']\n",
    "noDataValue =RefArray.attrs['Data_Ignore_Value']\n",
    "scaleFactor = RefArray.attrs['Scale_Factor']\n",
    "wavelengths = Ref['Metadata']['Spectral_Data']['Wavelength']\n",
    "neonwave=wavelengths[()] ## NEON wavelength"
   ]
  },
  {
   "cell_type": "code",
   "execution_count": 12,
   "id": "a78f82fc-ea5d-43ea-b9f9-8cdbc40f2e04",
   "metadata": {},
   "outputs": [],
   "source": [
    "neon_S2_B=np.zeros(shape=(13,426))"
   ]
  },
  {
   "cell_type": "code",
   "execution_count": 13,
   "id": "94206c95-540b-43fa-b417-395983df3e58",
   "metadata": {},
   "outputs": [],
   "source": [
    "## S2 13 bands, index from 0 to 12, interpolate S2 SRF for each NEON spectral band\n",
    "for i in range(13):\n",
    "    neon_S2_B[i]=np.interp(neonwave,np.fromiter(S2_B[i].keys(), dtype=float), np.fromiter(S2_B[i].values(), dtype=float), 0, 0)"
   ]
  },
  {
   "cell_type": "code",
   "execution_count": 14,
   "id": "f5edb5b7-da75-44fc-b8d7-28915f2bdb06",
   "metadata": {},
   "outputs": [],
   "source": [
    "Sim_Output=np.zeros(shape=(Ref_shape[0],Ref_shape[1],S2_Bands))"
   ]
  },
  {
   "cell_type": "code",
   "execution_count": 18,
   "id": "806b8507-60cf-49c8-93a8-5a1d0740c139",
   "metadata": {},
   "outputs": [
    {
     "name": "stdout",
     "output_type": "stream",
     "text": [
      "j= 0\n",
      "j= 100\n",
      "j= 200\n",
      "j= 300\n",
      "j= 400\n",
      "j= 500\n",
      "j= 600\n",
      "j= 700\n",
      "j= 800\n",
      "j= 900\n",
      "j= 1000\n"
     ]
    }
   ],
   "source": [
    "for j in range(Ref_shape[1]):\n",
    "    if (j%100==0):\n",
    "        print ('j=',j)\n",
    "    temp=RefArray[:,j,:]# get one row of the array to make the process faster\n",
    "    for i in range(Ref_shape[0]):\n",
    "        # if (j%100==0):\n",
    "        #     print ('j=',j)\n",
    "        # pixel_vec = RefArray[i,j,:].astype(np.float); ## get the pixel vector for data cube\n",
    "        pixel_vec = temp[i,:].astype(np.float); ## get the pixel vector for data cube\n",
    "        pixel_vec[pixel_vec==int(noDataValue)]=np.nan; ## assign np.nan to no data \n",
    "        pixel_vec=pixel_vec/scaleFactor; ## divide by scalefactor \n",
    "        for k in range(S2_Bands):            \n",
    "            Sim_Output[i][j][k]=np.dot(pixel_vec,neon_S2_B[k])/(np.count_nonzero(neon_S2_B[k])); ### pixel_vec dot production with SRF, divided by the number of bands falling in this band seperacal range.\n",
    "          "
   ]
  },
  {
   "cell_type": "code",
   "execution_count": 81,
   "id": "31f9a573-b863-4884-ab07-63cd0d766d82",
   "metadata": {},
   "outputs": [],
   "source": [
    "def CreateGeoTiff(Name, Array, driver, NDV, \n",
    "                  GeoT, Projection, DataType):\n",
    "    Array[np.isnan(Array)] = NDV\n",
    "    # DataSet = driver.Create(Name, Array.shape[2], Array.shape[1], Array.shape[0], DataType)\n",
    "    DataSet = driver.Create(Name, Array.shape[1], Array.shape[0], Array.shape[2], DataType)  ## col, row, bands\n",
    "    DataSet.SetGeoTransform(GeoT)\n",
    "    DataSet.SetProjection( Projection.ExportToWkt() )\n",
    "    for i in range(Array.shape[2]):       \n",
    "        DataSet.GetRasterBand(i+1).WriteArray(Array[:,:,i] )\n",
    "        DataSet.GetRasterBand(i+1).SetNoDataValue(NDV)\n",
    "    DataSet.FlushCache()\n",
    "    return Name"
   ]
  },
  {
   "cell_type": "code",
   "execution_count": 72,
   "id": "c2a862db-e41f-4743-9652-346139eb9696",
   "metadata": {},
   "outputs": [
    {
     "name": "stdout",
     "output_type": "stream",
     "text": [
      "[\"b'UTM\", '  1.000', '  1.000', '  552210.000', '  5074055.000', '  1.0000000000e+000', '  1.0000000000e+000', '  10', '  North', '  WGS-84', '  units=Meters', \" 0'\"]\n",
      "Resolution: 1.0 1.0\n"
     ]
    }
   ],
   "source": [
    "MapInfo_string = str(MapInfo[()]) #convert to string\n",
    "MapInfo_split = MapInfo_string.split(\",\") #split the strings using the separator \",\" \n",
    "print(MapInfo_split)\n",
    "xres = float(MapInfo_split[5])\n",
    "yres=float(MapInfo_split[6])\n",
    "print('Resolution:',xres,yres)\n",
    "#Extract the upper left-hand corner coordinates from mapInfo\n",
    "xMin = float(MapInfo_split[3]) \n",
    "yMax = float(MapInfo_split[4])"
   ]
  },
  {
   "cell_type": "code",
   "execution_count": 73,
   "id": "22657a81-c37f-4a1e-b288-9f2d12335c26",
   "metadata": {},
   "outputs": [],
   "source": [
    "## set the projection information \n",
    "srs = osr.SpatialReference()\n",
    "srs.ImportFromEPSG(32610)   \n",
    "geotransform=(xMin,xres,0,yMax,0, -yres) \n",
    "data_type = gdal.GDT_Float32\n",
    "driver = gdal.GetDriverByName('GTiff')"
   ]
  },
  {
   "cell_type": "code",
   "execution_count": 90,
   "id": "c4040509-a0bc-452c-989a-15a1eb46c958",
   "metadata": {},
   "outputs": [
    {
     "data": {
      "text/plain": [
       "'test4.tif'"
      ]
     },
     "execution_count": 90,
     "metadata": {},
     "output_type": "execute_result"
    }
   ],
   "source": [
    "CreateGeoTiff('test4.tif', Sim_Output, driver, -9999, geotransform, srs, data_type)"
   ]
  },
  {
   "cell_type": "code",
   "execution_count": 93,
   "id": "855f7fe5-f58a-43cc-b3c4-f329a478e9fc",
   "metadata": {},
   "outputs": [],
   "source": [
    "## for image resampling from 1m to 10m\n",
    "infn = 'test4.tif'\n",
    "outfn = 'test6.tif'\n",
    "xRes=10\n",
    "yRes=10\n",
    "\n",
    "# resample_alg = 'near'\n",
    "# ds=gdal.Warp(outfn, infn, warpoptions=dict(xRes=xres, yRes=yres, resampleAlg=resample_alg))\n",
    "# ds = None\n",
    "\n",
    "# raster_rprj = gdal.Warp(outfn, infn, xRes = 10, yRes = 10, resampleAlg = \"near\")\n",
    "raster_rprj = gdal.Warp(outfn, infn, xRes=10, yRes=10, resampleAlg = \"near\")\n",
    "raster_rprj = None\n",
    "# gdal.Warp('outputRaster.tif', 'inputRaster.tif', xRes=10, yRes=10)"
   ]
  },
  {
   "cell_type": "code",
   "execution_count": null,
   "id": "c8ae23e9-87c4-4f77-ac9d-0c12e9c6eac2",
   "metadata": {},
   "outputs": [],
   "source": []
  }
 ],
 "metadata": {
  "kernelspec": {
   "display_name": "Python 3 (ipykernel)",
   "language": "python",
   "name": "python3"
  },
  "language_info": {
   "codemirror_mode": {
    "name": "ipython",
    "version": 3
   },
   "file_extension": ".py",
   "mimetype": "text/x-python",
   "name": "python",
   "nbconvert_exporter": "python",
   "pygments_lexer": "ipython3",
   "version": "3.7.13"
  }
 },
 "nbformat": 4,
 "nbformat_minor": 5
}
