{
 "cells": [
  {
   "cell_type": "code",
   "execution_count": 49,
   "id": "94fe1344-2809-4b3b-8a2b-976a6b1a6797",
   "metadata": {},
   "outputs": [],
   "source": [
    "from scipy import interpolate\n",
    "import numpy as np\n",
    "import h5py\n",
    "import pandas as pd\n",
    "from osgeo import gdal, osr\n",
    "#import gdal, osr\n",
    "import matplotlib.pyplot as plt\n",
    "%matplotlib inline\n",
    "import warnings\n",
    "warnings.filterwarnings('ignore')\n",
    "import os\n",
    "from datetime import datetime"
   ]
  },
  {
   "cell_type": "markdown",
   "id": "99f68d64-ee7e-4a47-bcd0-03b828b15212",
   "metadata": {},
   "source": [
    "## Read S2 SRF from csv file and prepare S2 SRF array"
   ]
  },
  {
   "cell_type": "code",
   "execution_count": 50,
   "id": "74165019-ac5e-4ae8-ab26-00e1fe228bac",
   "metadata": {},
   "outputs": [],
   "source": [
    "df = pd.read_csv('S2-SRF_COPE-GSEG-EOPG_S2B.csv')"
   ]
  },
  {
   "cell_type": "code",
   "execution_count": 51,
   "id": "64fdac1f-5167-4cd9-9937-66760d7a1430",
   "metadata": {},
   "outputs": [],
   "source": [
    "S2_B= {}\n",
    "for i in  range (1,len(df.columns)):   \n",
    "    S2_B[i-1]= list(zip(df.loc[:,df.columns[0]],df.loc[:,df.columns[i]]))\n",
    "    S2_B[i-1] = {key:val for key, val in list(S2_B[i-1]) if val != 0.0} ## remove all 0 in the value"
   ]
  },
  {
   "cell_type": "markdown",
   "id": "f2087c34-faa5-47e4-a232-3db3b11d4ded",
   "metadata": {},
   "source": [
    "## Load NEON and extract parameters from h5 file"
   ]
  },
  {
   "cell_type": "code",
   "execution_count": 52,
   "id": "590ed15b-26dd-4c78-b1be-4da16e21a66a",
   "metadata": {},
   "outputs": [],
   "source": [
    "fullfileName='E:/NEON_refl-surf-dir-ortho-lin0e/NEON_refl-surf-dir-ortho-line/NEON.D16.ABBY.DP1.30006.001.2021-07.basic.20221124T030111Z.PROVISIONAL/NEON_D16_ABBY_DP1_20210719_191207_reflectance.h5'\n",
    "file_base=os.path.basename(fullfileName)\n",
    "file_name=os.path.splitext(file_base)[0]\n",
    "# print (file_name)\n",
    "file_1m=file_name+'.tif' ## output file name\n",
    "file_10m=file_name+'_10m.tif' ## output file name\n",
    "\n",
    "f=h5py.File(fullfileName,rdcc_nbytes =1024**2*10000,rdcc_nslots=1e7 )"
   ]
  },
  {
   "cell_type": "code",
   "execution_count": 30,
   "id": "dae644a1-1ad8-46bb-a8bc-fef7deb44a41",
   "metadata": {},
   "outputs": [],
   "source": [
    "# f=h5py.File('K:/NEON_refl-surf-dir-ortho-line (3)/NEON_refl-surf-dir-ortho-line/NEON.D16.ABBY.DP1.30006.001.2019-07.basic.20221110T005401Z.RELEASE-2022/NEON_D16_ABBY_DP1_20190714_220751_reflectance.h5','r')"
   ]
  },
  {
   "cell_type": "code",
   "execution_count": 31,
   "id": "c8b92e42-9c70-428d-a550-c8416e4425fb",
   "metadata": {},
   "outputs": [],
   "source": [
    "# f=h5py.File('E:/NEON_refl-surf-dir-ortho-lin0e/NEON_refl-surf-dir-ortho-line/NEON.D16.ABBY.DP1.30006.001.2021-07.basic.20221124T030111Z.PROVISIONAL/NEON_D16_ABBY_DP1_20210724_163435_reflectance.h5',rdcc_nbytes =1024**2*10000,rdcc_nslots=1e7 )"
   ]
  },
  {
   "cell_type": "code",
   "execution_count": 32,
   "id": "0a249c83-86cc-4dfa-9b19-7b82ca4d65f7",
   "metadata": {},
   "outputs": [],
   "source": [
    "# f=h5py.File('E:/NEON_refl-surf-dir-ortho-lin0e/NEON_refl-surf-dir-ortho-line/NEON.D16.ABBY.DP1.30006.001.2021-07.basic.20221124T030111Z.PROVISIONAL/NEON_D16_ABBY_DP1_20210719_191207_reflectance.h5',rdcc_nbytes =1024**2*10000,rdcc_nslots=1e7 )"
   ]
  },
  {
   "cell_type": "code",
   "execution_count": 53,
   "id": "525cb466-f64a-480b-bf26-7f6dc8d04ea2",
   "metadata": {},
   "outputs": [],
   "source": [
    "site='ABBY'  ## site name\n",
    "S2_Bands=13  ## the band number of S2 bands "
   ]
  },
  {
   "cell_type": "code",
   "execution_count": 54,
   "id": "285a4f15-0c2e-441b-85af-93cfc63ab373",
   "metadata": {},
   "outputs": [],
   "source": [
    "Ref = f[site]['Reflectance']\n",
    "RefArray = Ref['Reflectance_Data']\n",
    "Ref_shape = RefArray.shape\n",
    "MapInfo = Ref['Metadata']['Coordinate_System']['Map_Info']\n",
    "epsg_code = int(Ref['Metadata']['Coordinate_System']['EPSG Code'][()]) ### epsg, convert byte to int\n",
    "noDataValue =RefArray.attrs['Data_Ignore_Value']\n",
    "scaleFactor = RefArray.attrs['Scale_Factor']\n",
    "wavelengths = Ref['Metadata']['Spectral_Data']['Wavelength']\n",
    "neonwave=wavelengths[()] ## NEON wavelength\n",
    "flighttime = Ref['Metadata']['Flight_Trajectory']['Flight_Time']"
   ]
  },
  {
   "cell_type": "markdown",
   "id": "2b73ad74-afb0-44f3-9e06-8ee32508818a",
   "metadata": {},
   "source": [
    "## Prepare angle parameters"
   ]
  },
  {
   "cell_type": "code",
   "execution_count": 55,
   "id": "50abbd50-b47d-40a7-ab95-6b4b6253d2f7",
   "metadata": {},
   "outputs": [],
   "source": [
    "Solar_Az = Ref['Metadata']['Logs']['Solar_Azimuth_Angle'][()] ## The solar azimuth angle , single value\n",
    "Solar_Zen = Ref['Metadata']['Logs']['Solar_Zenith_Angle'][()] ## The solar zenith angle , single value\n",
    "ToSensor_Zen= Ref['Metadata']['to-sensor_Zenith_Angle']   ##  The to-sensor zenith angle from the platform, array\n",
    "ToSensor_Az = Ref['Metadata']['to-sensor_Azimuth_Angle'] ## The to-sensor azimuth angle from the platform,array"
   ]
  },
  {
   "cell_type": "code",
   "execution_count": 56,
   "id": "1ec41766-3fea-4d5b-99a5-b49dd068f980",
   "metadata": {},
   "outputs": [],
   "source": [
    "ToSensor_Az_np=np.asarray(ToSensor_Az) ### from h5 to numpy array\n",
    "ToSensor_Zen_np=np.asarray(ToSensor_Zen) ### from h5 to numpy array\n",
    "ToSensor_Az_np[ToSensor_Az_np==-9999.]=np.nan ## assign nan to -9999.  \n",
    "ToSensor_Zen_np[ToSensor_Zen_np==-9999.]=np.nan ## assign nan to -9999.\n",
    "# ToSensor_Az_np=np.radians(ToSensor_Az_np) ## convert to radians\n",
    "ToSensor_Zen_np=np.radians(ToSensor_Zen_np) ## convert to radians"
   ]
  },
  {
   "cell_type": "code",
   "execution_count": 57,
   "id": "eea828d2-2ccb-4bc4-832a-ceebfdae9828",
   "metadata": {},
   "outputs": [],
   "source": [
    "cosVZA=np.cos(ToSensor_Zen_np)  ##vza: 'MEAN_INCIDENCE_ZENITH_ANGLE',\n",
    "Solar_Zen_np=np.copy(ToSensor_Zen_np) ### get a copy of angle file with same nan\n",
    "Solar_Zen_np[~np.isnan(Solar_Zen_np)]=Solar_Zen  ### assign a single value solar zenith angle to the array not nan\n",
    "Solar_Zen_np=np.radians(Solar_Zen_np) ## convert to radian\n",
    "cosSZA=np.cos(Solar_Zen_np)  ## sza: 'MEAN_SOLAR_ZENITH_ANGLE',\n",
    "Solar_Az_np=np.copy(ToSensor_Az_np) ### get a copy of angle file with same nan\n",
    "Solar_Az_np[~np.isnan(Solar_Az_np)]=Solar_Az  ### assign a single value solar azimuth angle to the array not nan\n",
    "# cosRAA=np.cos(np.abs(np.subtract(Solar_Az_np,ToSensor_Az_np)))\n",
    "cosRAA=np.cos(np.radians(np.abs(np.subtract(Solar_Az_np,ToSensor_Az_np))))"
   ]
  },
  {
   "cell_type": "code",
   "execution_count": 58,
   "id": "8df77665-81a0-4776-8f9f-a1de987788ee",
   "metadata": {},
   "outputs": [],
   "source": [
    "angles=np.stack((cosVZA,cosSZA,cosRAA), axis=0) ## stack angles"
   ]
  },
  {
   "cell_type": "markdown",
   "id": "d01eccb8-92d0-40f0-a3b2-5e5b395f2127",
   "metadata": {},
   "source": [
    "## interpolate S2 from Nenon wavelenth"
   ]
  },
  {
   "cell_type": "code",
   "execution_count": 59,
   "id": "a78f82fc-ea5d-43ea-b9f9-8cdbc40f2e04",
   "metadata": {},
   "outputs": [],
   "source": [
    "neon_S2_B=np.zeros(shape=(13,426))"
   ]
  },
  {
   "cell_type": "code",
   "execution_count": 60,
   "id": "94206c95-540b-43fa-b417-395983df3e58",
   "metadata": {},
   "outputs": [],
   "source": [
    "## S2 13 bands, index from 0 to 12, interpolate S2 SRF for each NEON spectral band\n",
    "for i in range(13):\n",
    "    neon_S2_B[i]=np.interp(neonwave,np.fromiter(S2_B[i].keys(), dtype=float), np.fromiter(S2_B[i].values(), dtype=float), 0, 0)"
   ]
  },
  {
   "cell_type": "code",
   "execution_count": 61,
   "id": "f5edb5b7-da75-44fc-b8d7-28915f2bdb06",
   "metadata": {},
   "outputs": [],
   "source": [
    "# Sim_Output=np.zeros(shape=(Ref_shape[0],Ref_shape[1],S2_Bands))\n",
    "Sim_Output=np.zeros(shape=(S2_Bands,Ref_shape[0],Ref_shape[1]))"
   ]
  },
  {
   "cell_type": "code",
   "execution_count": 62,
   "id": "db8bb1fb-539f-4454-95d0-320a010fb7ac",
   "metadata": {},
   "outputs": [
    {
     "name": "stdout",
     "output_type": "stream",
     "text": [
      "0:16:38.054559\n"
     ]
    }
   ],
   "source": [
    "t1=datetime.now()\n",
    "if (Ref_shape[1]>Ref_shape[0]):   ## 'width>height')\n",
    "    # print ('width>height')\n",
    "    for j in range(Ref_shape[1]):\n",
    "    # if (j%100==0):\n",
    "        # print ('j=',j)\n",
    "        temp=RefArray[:,j,:]# get one row of the array to make the process faster\n",
    "        for i in range(Ref_shape[0]):\n",
    "            # if (j%100==0):\n",
    "            #     print ('j=',j)\n",
    "            # pixel_vec = RefArray[i,j,:].astype(np.float); ## get the pixel vector for data cube\n",
    "            pixel_vec = temp[i,:].astype(np.float); ## get the pixel vector for data cube\n",
    "            pixel_vec[pixel_vec==int(noDataValue)]=np.nan; ## assign np.nan to no data \n",
    "            pixel_vec=pixel_vec/scaleFactor; ## divide by scalefactor \n",
    "            for k in range(S2_Bands):            \n",
    "                # Sim_Output[i][j][k]=np.dot(pixel_vec,neon_S2_B[k])/(np.count_nonzero(neon_S2_B[k])); ### pixel_vec dot production with SRF, divided by the number of bands falling in this band seperacal range.\n",
    "                 Sim_Output[k][i][j]=np.dot(pixel_vec,neon_S2_B[k])/(np.count_nonzero(neon_S2_B[k])); ### pixel_vec dot production with SRF, divided by the number of bands falling in this band seperacal range.\n",
    "else: ## 'height>width')\n",
    "    # print ('height>width')\n",
    "    for i in range(Ref_shape[0]):\n",
    "        temp=RefArray[i,:,:]# get one row of the array to make the process faster\n",
    "        for j in range(Ref_shape[1]):       \n",
    "            #pixel_vec = RefArray[i,j,:].astype(np.float); ## get the pixel vector for data cube\n",
    "            pixel_vec = temp[j,:].astype(np.float); ## get the pixel vector for data cube\n",
    "            pixel_vec[pixel_vec==int(noDataValue)]=np.nan; ## assign np.nan to no data \n",
    "            pixel_vec=pixel_vec/scaleFactor; ## divide by scalefactor \n",
    "            for k in range(S2_Bands):            \n",
    "                Sim_Output[k][i][j]=np.dot(pixel_vec,neon_S2_B[k])/(np.count_nonzero(neon_S2_B[k])); ### pixel_vec dot production with SRF, divided by the number of bands falling in this band seperacal range.\n",
    "t2=datetime.now()         \n",
    "print (t2-t1)        "
   ]
  },
  {
   "cell_type": "code",
   "execution_count": 63,
   "id": "273c0056-91f3-4941-a6f7-f8b863bb9745",
   "metadata": {},
   "outputs": [],
   "source": [
    "Result_output=np.append(Sim_Output, angles, axis=0)  ### merge band results and angles"
   ]
  },
  {
   "cell_type": "code",
   "execution_count": 64,
   "id": "31f9a573-b863-4884-ab07-63cd0d766d82",
   "metadata": {},
   "outputs": [],
   "source": [
    "def CreateGeoTiff(Name, Array, driver, NDV, \n",
    "                  GeoT, Projection, DataType):\n",
    "    Array[np.isnan(Array)] = NDV\n",
    "    # DataSet = driver.Create(Name, Array.shape[2], Array.shape[1], Array.shape[0], DataType)\n",
    "    # DataSet = driver.Create(Name, Array.shape[1], Array.shape[0], Array.shape[2], DataType)  ## col, row, bands\n",
    "    DataSet = driver.Create(Name, Array.shape[2], Array.shape[1], Array.shape[0], DataType)  ## col, row, bands\n",
    "    DataSet.SetGeoTransform(GeoT)\n",
    "    DataSet.SetProjection( Projection.ExportToWkt() )\n",
    "    # for i in range(Array.shape[2]):\n",
    "    for i in range(Array.shape[0]):       \n",
    "        # DataSet.GetRasterBand(i+1).WriteArray(Array[:,:,i] )\n",
    "        DataSet.GetRasterBand(i+1).WriteArray(Array[i,:,:] )\n",
    "        DataSet.GetRasterBand(i+1).SetNoDataValue(NDV)\n",
    "    DataSet.FlushCache()\n",
    "    return Name"
   ]
  },
  {
   "cell_type": "markdown",
   "id": "29e31925-0906-42e2-b16f-f0385b820331",
   "metadata": {},
   "source": [
    "## Prepare coordinate information for outputting file"
   ]
  },
  {
   "cell_type": "code",
   "execution_count": 65,
   "id": "c2a862db-e41f-4743-9652-346139eb9696",
   "metadata": {},
   "outputs": [
    {
     "name": "stdout",
     "output_type": "stream",
     "text": [
      "[\"b'UTM\", '  1.000', '  1.000', '  551696.000', '  5073247.000', '  1.0000000000e+000', '  1.0000000000e+000', '  10', '  North', '  WGS-84', '  units=Meters', \" 0'\"]\n",
      "Resolution: 1.0 1.0\n"
     ]
    }
   ],
   "source": [
    "MapInfo_string = str(MapInfo[()]) #convert to string\n",
    "MapInfo_split = MapInfo_string.split(\",\") #split the strings using the separator \",\" \n",
    "print(MapInfo_split)\n",
    "xres = float(MapInfo_split[5])\n",
    "yres=float(MapInfo_split[6])\n",
    "print('Resolution:',xres,yres)\n",
    "#Extract the upper left-hand corner coordinates from mapInfo\n",
    "xMin = float(MapInfo_split[3]) \n",
    "yMax = float(MapInfo_split[4])"
   ]
  },
  {
   "cell_type": "code",
   "execution_count": 66,
   "id": "22657a81-c37f-4a1e-b288-9f2d12335c26",
   "metadata": {},
   "outputs": [],
   "source": [
    "## set the projection information \n",
    "srs = osr.SpatialReference()\n",
    "# srs.ImportFromEPSG(32610)  \n",
    "srs.ImportFromEPSG(epsg_code) \n",
    "geotransform=(xMin,xres,0,yMax,0, -yres) \n",
    "data_type = gdal.GDT_Float32\n",
    "driver = gdal.GetDriverByName('GTiff')"
   ]
  },
  {
   "cell_type": "code",
   "execution_count": 67,
   "id": "c4040509-a0bc-452c-989a-15a1eb46c958",
   "metadata": {},
   "outputs": [
    {
     "data": {
      "text/plain": [
       "'NEON_D16_ABBY_DP1_20210719_191207_reflectance.tif'"
      ]
     },
     "execution_count": 67,
     "metadata": {},
     "output_type": "execute_result"
    }
   ],
   "source": [
    "# CreateGeoTiff('test6_withangles.tif', Sim_Output, driver, -9999, geotransform, srs, data_type)\n",
    "# CreateGeoTiff('ABBY_DP1_20210724_163435.tif', Result_output, driver, -9999, geotransform, srs, data_type)\n",
    "CreateGeoTiff(file_1m, Result_output, driver, -9999, geotransform, srs, data_type)"
   ]
  },
  {
   "cell_type": "code",
   "execution_count": 68,
   "id": "855f7fe5-f58a-43cc-b3c4-f329a478e9fc",
   "metadata": {},
   "outputs": [],
   "source": [
    "# raster_rprj = gdal.Warp(outfn, infn, xRes = 10, yRes = 10, resampleAlg = \"near\")\n",
    "# raster_rprj = gdal.Warp(outfn, infn, xRes=10, yRes=10, resampleAlg = \"average\")\n",
    "raster_rprj = gdal.Warp(file_10m, file_1m, xRes=10, yRes=10, resampleAlg = \"average\")\n",
    "raster_rprj = None"
   ]
  },
  {
   "cell_type": "code",
   "execution_count": null,
   "id": "687ca9a4-62b7-45d6-80f7-6295aa83fb3e",
   "metadata": {},
   "outputs": [],
   "source": [
    "# fn = r'H:\\neon\\imgreg\\S2_ABBY_20210719_1912073.tif'\n",
    "# ds = gdal.Open(fn, 1)"
   ]
  },
  {
   "cell_type": "code",
   "execution_count": null,
   "id": "de842484-5fc2-440b-94e1-19510bf51381",
   "metadata": {},
   "outputs": [],
   "source": [
    "# ds.GetGeoTransform()"
   ]
  },
  {
   "cell_type": "code",
   "execution_count": null,
   "id": "d4ec71fb-a069-4bff-a22c-11ed3dd790be",
   "metadata": {},
   "outputs": [],
   "source": [
    "# ds.GetProjection()"
   ]
  },
  {
   "cell_type": "code",
   "execution_count": null,
   "id": "ab5eb0d5-de89-483b-83a2-7e1ecbc6e2fb",
   "metadata": {},
   "outputs": [],
   "source": [
    "# proj = osr.SpatialReference(wkt=ds.GetProjection())\n",
    "# print(proj.GetAttrValue('AUTHORITY',1))"
   ]
  },
  {
   "cell_type": "code",
   "execution_count": null,
   "id": "df6cfb52-0dbd-4515-b479-4fc660018435",
   "metadata": {},
   "outputs": [],
   "source": [
    "# epsg_num=osr.SpatialReference(wkt=ds.GetProjection()).GetAttrValue('AUTHORITY',1)"
   ]
  }
 ],
 "metadata": {
  "kernelspec": {
   "display_name": "Python 3 (ipykernel)",
   "language": "python",
   "name": "python3"
  },
  "language_info": {
   "codemirror_mode": {
    "name": "ipython",
    "version": 3
   },
   "file_extension": ".py",
   "mimetype": "text/x-python",
   "name": "python",
   "nbconvert_exporter": "python",
   "pygments_lexer": "ipython3",
   "version": "3.9.7"
  }
 },
 "nbformat": 4,
 "nbformat_minor": 5
}
